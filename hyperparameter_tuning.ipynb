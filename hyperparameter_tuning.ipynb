{
  "cells": [
    {
      "cell_type": "markdown",
      "source": [
        "# Hyperparameter Tuning using HyperDrive\n",
        "\n",
        "TODO: Import Dependencies. In the cell below, import all the dependencies that you will need to complete the project."
      ],
      "metadata": {
        "id": "ev5O7WkGwSXI"
      }
    },
    {
      "cell_type": "code",
      "execution_count": 1,
      "source": [
        "import azureml.core\n",
        "print(azureml.core.VERSION)"
      ],
      "outputs": [],
      "metadata": {
        "gather": {
          "logged": 1598531914256
        },
        "id": "MwP1bc3gwSXK"
      }
    },
    {
      "cell_type": "code",
      "source": [
        "from azureml.widgets import RunDetails\n",
        "from azureml.train.sklearn import SKLearn\n",
        "from azureml.train.hyperdrive.run import PrimaryMetricGoal\n",
        "from azureml.train.hyperdrive.policy import BanditPolicy\n",
        "from azureml.train.hyperdrive.sampling import RandomParameterSampling\n",
        "from azureml.train.hyperdrive.runconfig import HyperDriveConfig\n",
        "from azureml.train.hyperdrive.parameter_expressions import uniform\n",
        "import os\n",
        "from azureml.train.hyperdrive.parameter_expressions import choice\n",
        "from azureml.train.hyperdrive import BanditPolicy\n",
        "import logging\n",
        "import os\n",
        "import csv\n",
        "\n",
        "from matplotlib import pyplot as plt\n",
        "import numpy as np\n",
        "import pandas as pd\n",
        "from sklearn import datasets\n",
        "import pkg_resources\n",
        "\n",
        "import azureml.core\n",
        "from azureml.core.experiment import Experiment\n",
        "from azureml.core.workspace import Workspace\n",
        "from azureml.train.automl import AutoMLConfig\n",
        "from azureml.core.dataset import Dataset\n",
        "\n",
        "from azureml.pipeline.steps import AutoMLStep"
      ],
      "metadata": {
        "id": "-oz2cmnHwkPs"
      },
      "execution_count": null,
      "outputs": []
    },
    {
      "cell_type": "markdown",
      "source": [
        "## Dataset\n",
        "\n",
        "TODO: Get data. In the cell below, write code to access the data you will be using in this project. Remember that the dataset needs to be external."
      ],
      "metadata": {
        "id": "QxIWmTGFwSXK"
      }
    },
    {
      "cell_type": "code",
      "execution_count": null,
      "source": [
        "ws = Workspace.from_config()\n",
        "experiment_name = 'hyperdrive-heart-failure'\n",
        "project_folder = './mlops-capstone-project-folder'\n",
        "\n",
        "experiment=Experiment(ws, experiment_name)\n",
        "experiment"
      ],
      "outputs": [],
      "metadata": {
        "gather": {
          "logged": 1598531917374
        },
        "jupyter": {
          "outputs_hidden": false,
          "source_hidden": false
        },
        "nteract": {
          "transient": {
            "deleting": false
          }
        },
        "id": "rnJyk3ddwSXL"
      }
    },
    {
      "cell_type": "code",
      "source": [
        "from azureml.core.compute import AmlCompute\n",
        "from azureml.core.compute import ComputeTarget\n",
        "from azureml.core.compute_target import ComputeTargetException\n",
        "\n",
        "# NOTE: update the cluster name to match the existing cluster\n",
        "# Choose a name for your CPU cluster\n",
        "amlcompute_cluster_name = \"cluster-cpu\"\n",
        "\n",
        "# Verify that cluster does not exist already\n",
        "try:\n",
        "    compute_target = ComputeTarget(workspace=ws, name=amlcompute_cluster_name)\n",
        "    print('Found existing cluster, use it.')\n",
        "except ComputeTargetException:\n",
        "    compute_config = AmlCompute.provisioning_configuration(vm_size='STANDARD_D2_V2',# for GPU, use \"STANDARD_NC6\"\n",
        "                                                           #vm_priority = 'lowpriority', # optional\n",
        "                                                           max_nodes=4)\n",
        "    compute_target = ComputeTarget.create(ws, amlcompute_cluster_name, compute_config)\n",
        "\n",
        "compute_target.wait_for_completion(show_output=True, min_node_count = 1, timeout_in_minutes = 2)"
      ],
      "metadata": {
        "id": "wseN0uN0xqAA"
      },
      "execution_count": null,
      "outputs": []
    },
    {
      "cell_type": "code",
      "source": [
        "from azureml.core import Environment\n",
        "sklearn_env = Environment.from_conda_specification(name = 'scikitlearn_env', file_path = './envFile.yml')\n",
        "sklearn_env"
      ],
      "metadata": {
        "id": "CYk5IYYjx4H_"
      },
      "execution_count": null,
      "outputs": []
    },
    {
      "cell_type": "code",
      "source": [
        "from azureml.core import ScriptRunConfig\n",
        "src = ScriptRunConfig(source_directory='.',\n",
        "                      compute_target=compute_target,\n",
        "                      script='train.py',\n",
        "                      arguments=['--C', 1.0, '--max_iter', 100],\n",
        "                      environment=sklearn_env)"
      ],
      "metadata": {
        "id": "429J4ydqx3zW"
      },
      "execution_count": null,
      "outputs": []
    },
    {
      "cell_type": "markdown",
      "source": [
        "## Hyperdrive Configuration\n",
        "\n",
        "TODO: Explain the model you are using and the reason for chosing the different hyperparameters, termination policy and config settings."
      ],
      "metadata": {
        "collapsed": true,
        "gather": {
          "logged": 1598531923519
        },
        "jupyter": {
          "outputs_hidden": false,
          "source_hidden": false
        },
        "nteract": {
          "transient": {
            "deleting": false
          }
        },
        "id": "_FVaIYfpwSXL"
      }
    },
    {
      "cell_type": "code",
      "execution_count": null,
      "source": [
        "# TODO: Create an early termination policy. This is not required if you are using Bayesian sampling.\n",
        "early_termination_policy = BanditPolicy(evaluation_interval=1, slack_factor=0.2, delay_evaluation=5)\n",
        "\n",
        "#TODO: Create the different params that you will be using during training\n",
        "param_sampling = RandomParameterSampling({\"--C\": choice(0.001,0.01,0.1,1,10,20,50,100,200,500,1000), \"--max_iter\": choice(40,80,120,130,200)})\n",
        "\n",
        "#TODO: Create your estimator and hyperdrive config\n",
        "#estimator = <your estimator here>\n",
        "\n",
        "hyperdrive_run_config = HyperDriveConfig(hyperparameter_sampling=param_sampling,\n",
        "                                         primary_metric_name=\"Accuracy\",\n",
        "                                         policy=early_termination_policy,\n",
        "                                         max_total_runs=10,\n",
        "                                         max_concurrent_runs=4,\n",
        "                                         primary_metric_goal=PrimaryMetricGoal.MAXIMIZE,\n",
        "                                         run_config=src)"
      ],
      "outputs": [],
      "metadata": {
        "gather": {
          "logged": 1598544893076
        },
        "jupyter": {
          "outputs_hidden": false,
          "source_hidden": false
        },
        "nteract": {
          "transient": {
            "deleting": false
          }
        },
        "id": "H-ylrRG6wSXL"
      }
    },
    {
      "cell_type": "code",
      "execution_count": null,
      "source": [
        "#TODO: Submit your experiment\n",
        "hyperDrive_run = experiment.submit(hyperdrive_run_config)"
      ],
      "outputs": [],
      "metadata": {
        "gather": {
          "logged": 1598544897941
        },
        "jupyter": {
          "outputs_hidden": false,
          "source_hidden": false
        },
        "nteract": {
          "transient": {
            "deleting": false
          }
        },
        "id": "khwW-6dewSXM"
      }
    },
    {
      "cell_type": "markdown",
      "source": [
        "## Run Details\n",
        "\n",
        "OPTIONAL: Write about the different models trained and their performance. Why do you think some models did better than others?\n",
        "\n",
        "TODO: In the cell below, use the `RunDetails` widget to show the different experiments."
      ],
      "metadata": {
        "collapsed": true,
        "gather": {
          "logged": 1598544898497
        },
        "jupyter": {
          "outputs_hidden": false,
          "source_hidden": false
        },
        "nteract": {
          "transient": {
            "deleting": false
          }
        },
        "id": "g4uo_g4IwSXM"
      }
    },
    {
      "cell_type": "code",
      "execution_count": null,
      "source": [
        "RunDetails(hyperDrive_run).show()\n",
        "hyperDrive_run.wait_for_completion(show_output=True)"
      ],
      "outputs": [],
      "metadata": {
        "gather": {
          "logged": 1598546648408
        },
        "jupyter": {
          "outputs_hidden": false,
          "source_hidden": false
        },
        "nteract": {
          "transient": {
            "deleting": false
          }
        },
        "id": "r-xYaPqYwSXM"
      }
    },
    {
      "cell_type": "markdown",
      "source": [
        "## Best Model\n",
        "\n",
        "TODO: In the cell below, get the best model from the hyperdrive experiments and display all the properties of the model."
      ],
      "metadata": {
        "id": "w9r5hmoSwSXM"
      }
    },
    {
      "cell_type": "code",
      "execution_count": null,
      "source": [
        "import joblib\n",
        "best_run = hyperDrive_run.get_best_run_by_primary_metric()\n",
        "best_run_metrics = best_run.get_metrics()"
      ],
      "outputs": [],
      "metadata": {
        "gather": {
          "logged": 1598546650307
        },
        "jupyter": {
          "outputs_hidden": false,
          "source_hidden": false
        },
        "nteract": {
          "transient": {
            "deleting": false
          }
        },
        "id": "9qxITNrxwSXM"
      }
    },
    {
      "cell_type": "code",
      "source": [
        "parameter_values = best_run.get_details()['runDefinition']['arguments']\n",
        "\n",
        "print('Best Run Id: ', best_run.id)\n",
        "print('\\n Accuracy:', best_run_metrics['Accuracy'])\n",
        "print('\\n Regularization Strength (\"--C\"):',best_run_metrics['Regularization Strength:'])\n",
        "print('\\n Max Iterations:',best_run_metrics['Max iterations:'])\n",
        "#joblib.dump(value=best_run.id, filename=\"./outputs/best_capstone_project_hyperdrive_model.joblib\")"
      ],
      "metadata": {
        "id": "TFpZATaCya9H"
      },
      "execution_count": null,
      "outputs": []
    },
    {
      "cell_type": "code",
      "execution_count": null,
      "source": [
        "the best model\n",
        "print(os.getcwd())\n",
        "os.makedirs('./hyperdrive-capstone-model',exist_ok=True)\n",
        "best_run.download_file('/outputs/best_hyperdrive_model.joblib',os.path.join('./hyperdrive-capstone-model','best_hyperdrive_model.joblib'))"
      ],
      "outputs": [],
      "metadata": {
        "gather": {
          "logged": 1598546657829
        },
        "jupyter": {
          "outputs_hidden": false,
          "source_hidden": false
        },
        "nteract": {
          "transient": {
            "deleting": false
          }
        },
        "id": "uctROsCXwSXM"
      }
    },
    {
      "cell_type": "code",
      "source": [
        "#Register Model\n",
        "from azureml.core import Model\n",
        "from azureml.core.resource_configuration import ResourceConfiguration\n",
        "\n",
        "bestModel = best_run.register_model(\n",
        "                        model_path='./outputs/best_hyperdrive_model.joblib', \n",
        "                        model_name='HyperDrive_Best_Model',\n",
        "                        tags={'Capstone HyperDrive AML Training tag':'Capstone Hyperdrive Auto ML'},\n",
        "                        model_framework=Model.Framework.SCIKITLEARN,\n",
        "                        description='heart faliure predication.',\n",
        "                        properties={'Accuracy': best_run_metrics['Accuracy']}\n",
        "                        )\n",
        "\n",
        "print(bestModel)\n",
        "print('Version:', bestModel.version)"
      ],
      "metadata": {
        "id": "dnz3YmSOzP2L"
      },
      "execution_count": null,
      "outputs": []
    },
    {
      "cell_type": "markdown",
      "source": [
        "## Model Deployment\n",
        "\n",
        "Remember you have to deploy only one of the two models you trained but you still need to register both the models. Perform the steps in the rest of this notebook only if you wish to deploy this model.\n",
        "\n",
        "TODO: In the cell below, register the model, create an inference config and deploy the model as a web service."
      ],
      "metadata": {
        "collapsed": true,
        "jupyter": {
          "outputs_hidden": false,
          "source_hidden": false
        },
        "nteract": {
          "transient": {
            "deleting": false
          }
        },
        "id": "mOnozpJTwSXN"
      }
    },
    {
      "cell_type": "code",
      "execution_count": null,
      "source": [],
      "outputs": [],
      "metadata": {
        "id": "z8md4ojrwSXN"
      }
    },
    {
      "cell_type": "markdown",
      "source": [
        "TODO: In the cell below, send a request to the web service you deployed to test it."
      ],
      "metadata": {
        "id": "yd_pERDXwSXN"
      }
    },
    {
      "cell_type": "code",
      "execution_count": null,
      "source": [],
      "outputs": [],
      "metadata": {
        "id": "ooQsAnCawSXN"
      }
    },
    {
      "cell_type": "markdown",
      "source": [
        "TODO: In the cell below, print the logs of the web service and delete the service"
      ],
      "metadata": {
        "id": "0EjmTpkNwSXN"
      }
    },
    {
      "cell_type": "code",
      "execution_count": null,
      "source": [],
      "outputs": [],
      "metadata": {
        "id": "82h8nuubwSXN"
      }
    },
    {
      "cell_type": "markdown",
      "source": [
        "**Submission Checklist**\n",
        "- I have registered the model.\n",
        "- I have deployed the model with the best accuracy as a webservice.\n",
        "- I have tested the webservice by sending a request to the model endpoint.\n",
        "- I have deleted the webservice and shutdown all the computes that I have used.\n",
        "- I have taken a screenshot showing the model endpoint as active.\n",
        "- The project includes a file containing the environment details.\n",
        "\n"
      ],
      "metadata": {
        "id": "Tm_1_agvwSXN"
      }
    },
    {
      "cell_type": "markdown",
      "source": [],
      "metadata": {
        "id": "aokwHMqwwSXN"
      }
    }
  ],
  "metadata": {
    "kernel_info": {
      "name": "python3-azureml"
    },
    "kernelspec": {
      "display_name": "Python 3",
      "language": "python",
      "name": "python3"
    },
    "language_info": {
      "codemirror_mode": {
        "name": "ipython",
        "version": 3
      },
      "file_extension": ".py",
      "mimetype": "text/x-python",
      "name": "python",
      "nbconvert_exporter": "python",
      "pygments_lexer": "ipython3",
      "version": "3.6.5"
    },
    "nteract": {
      "version": "nteract-front-end@1.0.0"
    },
    "colab": {
      "provenance": []
    }
  },
  "nbformat": 4,
  "nbformat_minor": 0
}